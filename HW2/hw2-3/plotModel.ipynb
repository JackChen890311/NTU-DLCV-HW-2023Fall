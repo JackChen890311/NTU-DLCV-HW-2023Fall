{
 "cells": [
  {
   "cell_type": "code",
   "execution_count": 12,
   "metadata": {},
   "outputs": [],
   "source": [
    "import torch\n",
    "from torchview import draw_graph\n",
    "from model import Extractor, Classifier, Discriminator\n",
    "from constant import CONSTANT"
   ]
  },
  {
   "cell_type": "code",
   "execution_count": 13,
   "metadata": {},
   "outputs": [],
   "source": [
    "C = CONSTANT()\n",
    "extractor = Extractor()\n",
    "classifier = Classifier()\n",
    "discriminator = Discriminator()"
   ]
  },
  {
   "cell_type": "code",
   "execution_count": 15,
   "metadata": {},
   "outputs": [
    {
     "data": {
      "text/plain": [
       "<torchview.computation_graph.ComputationGraph at 0x7f884fd7d240>"
      ]
     },
     "execution_count": 15,
     "metadata": {},
     "output_type": "execute_result"
    }
   ],
   "source": [
    "draw_graph(extractor, input_size=(16,3,28,28), device='cpu', save_graph=True, filename='extractor')\n",
    "draw_graph(classifier, input_size=(16,512), device='cpu', save_graph=True, filename='classifier')\n",
    "draw_graph(discriminator, input_data=(torch.randn(16,512),torch.tensor(0.5)), device='cpu', save_graph=True, filename='discriminator')"
   ]
  }
 ],
 "metadata": {
  "kernelspec": {
   "display_name": "torch",
   "language": "python",
   "name": "python3"
  },
  "language_info": {
   "codemirror_mode": {
    "name": "ipython",
    "version": 3
   },
   "file_extension": ".py",
   "mimetype": "text/x-python",
   "name": "python",
   "nbconvert_exporter": "python",
   "pygments_lexer": "ipython3",
   "version": "3.10.13"
  }
 },
 "nbformat": 4,
 "nbformat_minor": 2
}
